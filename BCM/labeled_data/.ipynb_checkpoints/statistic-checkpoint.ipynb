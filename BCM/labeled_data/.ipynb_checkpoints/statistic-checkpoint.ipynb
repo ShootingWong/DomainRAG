{
 "cells": [
  {
   "cell_type": "code",
   "execution_count": 1,
   "id": "bb40e857-c4c2-4d46-b2ef-5c1df568f7c5",
   "metadata": {},
   "outputs": [],
   "source": [
    "import numpy as np\n",
    "import os\n",
    "import json\n",
    "from tqdm import tqdm"
   ]
  },
  {
   "cell_type": "code",
   "execution_count": 5,
   "id": "f62fd7e9-5b3b-41c2-8598-0a87e9ce9738",
   "metadata": {},
   "outputs": [
    {
     "data": {
      "text/plain": [
       "8"
      ]
     },
     "execution_count": 5,
     "metadata": {},
     "output_type": "execute_result"
    }
   ],
   "source": [
    "ans = [[\"汉语\",\"法语\",\"英语\"]]\n",
    "len(' '.join(ans[0]))"
   ]
  },
  {
   "cell_type": "code",
   "execution_count": null,
   "id": "d869871c-05f7-4f43-b318-50d1d015f50e",
   "metadata": {},
   "outputs": [],
   "source": []
  },
  {
   "cell_type": "code",
   "execution_count": 27,
   "id": "b62d9d87-f7a5-42fb-ac67-d7ae20e7a7a8",
   "metadata": {},
   "outputs": [],
   "source": [
    "def calculate(data):\n",
    "    q = data['question']\n",
    "    query_len = len(q)\n",
    "    \n",
    "    if 'answers' in data:\n",
    "        answers = data['answers']\n",
    "    else:\n",
    "        answers = data['answer']\n",
    "        \n",
    "    ans_len = []\n",
    "    if isinstance(answers, str):\n",
    "        ans_len.append(len(answers))\n",
    "    else:\n",
    "        for ans in answers:\n",
    "            if isinstance(ans, list):\n",
    "                ans = ' '.join(ans)\n",
    "            ans_len.append(len(ans))\n",
    "        \n",
    "    \n",
    "    if 'counterfact_answers' in data:\n",
    "        counter_ans_len = []\n",
    "        counterfact_answers = data['counterfact_answers']\n",
    "        for ans in counterfact_answers:\n",
    "            if isinstance(ans, list):\n",
    "                ans = ' '.join(ans)\n",
    "            counter_ans_len.append(len(ans))\n",
    "            \n",
    "        return query_len, ans_len, counter_ans_len\n",
    "    else:\n",
    "        return query_len, ans_len, [0]\n",
    "    "
   ]
  },
  {
   "cell_type": "code",
   "execution_count": 25,
   "id": "b1afefc2-0f46-4de8-9028-ef97a344ce3e",
   "metadata": {},
   "outputs": [],
   "source": [
    "tasks = [\"conversation\", \"counterfactual\", \"basic\", \"time\", \"structure\", \"multidoc\", \"noisy\"]\n",
    "roots = [\"conversation_qa\", \"counterfact_qa\", \"extractive_qa\", \"time-sensitive_qa\", \"structured_qa\", \"multi-doc_qa\", \"noisy_qa\"]\n",
    "files = [\"revised_conversation_qa_psg.jsonl\", \"revised_factual_qa_indomain_psg.jsonl\", \"basic_qa_new.jsonl\", \"time_sensitive_new.jsonl\", \"structured_qa_dataset_positivehtml.jsonl\", \"multidoc_qa_final_merge_referred_docs.jsonl\", \"noisy_qa_new.jsonl\"]\n",
    "\n",
    "root_map = {}\n",
    "filename_map = {}\n",
    "for i in range(len(tasks)):\n",
    "    task = tasks[i]\n",
    "    root = roots[i]\n",
    "    filename = files[i]\n",
    "    \n",
    "def calculate_alldata():\n",
    "    for i in range(len(tasks)):\n",
    "        task = tasks[i]\n",
    "        root = roots[i]\n",
    "        filename = files[i]\n",
    "        datas = [json.loads(line) for line in open(os.path.join(root, filename)).readlines()]\n",
    "        all_query_len, all_ans_len, all_counter_ans_len = [], [], [] \n",
    "        \n",
    "        for data in tqdm(datas):\n",
    "            query_len, ans_len, counter_ans_len = calculate(data)\n",
    "            all_query_len.append(query_len)\n",
    "            all_ans_len += ans_len\n",
    "            all_counter_ans_len += counter_ans_len\n",
    "            \n",
    "        avg_query_len = np.mean(all_query_len)\n",
    "        avg_ans_len = np.mean(all_ans_len)\n",
    "        avg_counter_ans_len = np.mean(all_counter_ans_len)\n",
    "        \n",
    "        if task == \"counterfactual\":\n",
    "            print(f'Task: {task} avg_query_len: {avg_query_len} avg_ans_len: {avg_ans_len} avg_counter_ans_len = {avg_counter_ans_len}')\n",
    "        else:\n",
    "            print(f'Task: {task} avg_query_len: {avg_query_len} avg_ans_len: {avg_ans_len}')\n",
    "            \n",
    "            "
   ]
  },
  {
   "cell_type": "code",
   "execution_count": 26,
   "id": "e5a72ecb-aeef-4814-915b-986e3069b8c0",
   "metadata": {},
   "outputs": [
    {
     "name": "stderr",
     "output_type": "stream",
     "text": [
      "100%|██████████| 49/49 [00:00<00:00, 626588.10it/s]\n"
     ]
    },
    {
     "name": "stdout",
     "output_type": "stream",
     "text": [
      "Task: conversation avg_query_len: 16.653061224489797 avg_ans_len: 35.66\n"
     ]
    },
    {
     "name": "stderr",
     "output_type": "stream",
     "text": [
      "100%|██████████| 49/49 [00:00<00:00, 497629.29it/s]\n"
     ]
    },
    {
     "name": "stdout",
     "output_type": "stream",
     "text": [
      "Task: counterfactual avg_query_len: 27.285714285714285 avg_ans_len: 12.848101265822784 avg_counter_ans_len = 11.79746835443038\n"
     ]
    },
    {
     "name": "stderr",
     "output_type": "stream",
     "text": [
      "100%|██████████| 100/100 [00:00<00:00, 758463.65it/s]\n"
     ]
    },
    {
     "name": "stdout",
     "output_type": "stream",
     "text": [
      "Task: basic avg_query_len: 24.08 avg_ans_len: 9.446043165467627\n"
     ]
    },
    {
     "name": "stderr",
     "output_type": "stream",
     "text": [
      "100%|██████████| 99/99 [00:00<00:00, 904653.80it/s]\n"
     ]
    },
    {
     "name": "stdout",
     "output_type": "stream",
     "text": [
      "Task: time avg_query_len: 19.232323232323232 avg_ans_len: 4.075757575757576\n"
     ]
    },
    {
     "name": "stderr",
     "output_type": "stream",
     "text": [
      "100%|██████████| 115/115 [00:00<00:00, 838860.80it/s]\n"
     ]
    },
    {
     "name": "stdout",
     "output_type": "stream",
     "text": [
      "Task: structure avg_query_len: 33.04347826086956 avg_ans_len: 8.047808764940239\n"
     ]
    },
    {
     "name": "stderr",
     "output_type": "stream",
     "text": [
      "  0%|          | 0/48 [00:00<?, ?it/s]\n"
     ]
    },
    {
     "ename": "KeyError",
     "evalue": "'answers'",
     "output_type": "error",
     "traceback": [
      "\u001b[0;31m---------------------------------------------------------------------------\u001b[0m",
      "\u001b[0;31mKeyError\u001b[0m                                  Traceback (most recent call last)",
      "Cell \u001b[0;32mIn[26], line 1\u001b[0m\n\u001b[0;32m----> 1\u001b[0m \u001b[43mcalculate_alldata\u001b[49m\u001b[43m(\u001b[49m\u001b[43m)\u001b[49m\n",
      "Cell \u001b[0;32mIn[25], line 21\u001b[0m, in \u001b[0;36mcalculate_alldata\u001b[0;34m()\u001b[0m\n\u001b[1;32m     18\u001b[0m all_query_len, all_ans_len, all_counter_ans_len \u001b[38;5;241m=\u001b[39m [], [], [] \n\u001b[1;32m     20\u001b[0m \u001b[38;5;28;01mfor\u001b[39;00m data \u001b[38;5;129;01min\u001b[39;00m tqdm(datas):\n\u001b[0;32m---> 21\u001b[0m     query_len, ans_len, counter_ans_len \u001b[38;5;241m=\u001b[39m \u001b[43mcalculate\u001b[49m\u001b[43m(\u001b[49m\u001b[43mdata\u001b[49m\u001b[43m)\u001b[49m\n\u001b[1;32m     22\u001b[0m     all_query_len\u001b[38;5;241m.\u001b[39mappend(query_len)\n\u001b[1;32m     23\u001b[0m     all_ans_len \u001b[38;5;241m+\u001b[39m\u001b[38;5;241m=\u001b[39m ans_len\n",
      "Cell \u001b[0;32mIn[24], line 3\u001b[0m, in \u001b[0;36mcalculate\u001b[0;34m(data)\u001b[0m\n\u001b[1;32m      1\u001b[0m \u001b[38;5;28;01mdef\u001b[39;00m \u001b[38;5;21mcalculate\u001b[39m(data):\n\u001b[1;32m      2\u001b[0m     q \u001b[38;5;241m=\u001b[39m data[\u001b[38;5;124m'\u001b[39m\u001b[38;5;124mquestion\u001b[39m\u001b[38;5;124m'\u001b[39m]\n\u001b[0;32m----> 3\u001b[0m     answers \u001b[38;5;241m=\u001b[39m \u001b[43mdata\u001b[49m\u001b[43m[\u001b[49m\u001b[38;5;124;43m'\u001b[39;49m\u001b[38;5;124;43manswers\u001b[39;49m\u001b[38;5;124;43m'\u001b[39;49m\u001b[43m]\u001b[49m\n\u001b[1;32m      4\u001b[0m     ans_len \u001b[38;5;241m=\u001b[39m []\n\u001b[1;32m      5\u001b[0m     \u001b[38;5;28;01mfor\u001b[39;00m ans \u001b[38;5;129;01min\u001b[39;00m answers:\n",
      "\u001b[0;31mKeyError\u001b[0m: 'answers'"
     ]
    }
   ],
   "source": [
    "calculate_alldata()"
   ]
  },
  {
   "cell_type": "code",
   "execution_count": null,
   "id": "a327cab2-d3f9-4535-98c2-24f8f881341b",
   "metadata": {},
   "outputs": [],
   "source": []
  }
 ],
 "metadata": {
  "kernelspec": {
   "display_name": "Python 3 (ipykernel)",
   "language": "python",
   "name": "python3"
  },
  "language_info": {
   "codemirror_mode": {
    "name": "ipython",
    "version": 3
   },
   "file_extension": ".py",
   "mimetype": "text/x-python",
   "name": "python",
   "nbconvert_exporter": "python",
   "pygments_lexer": "ipython3",
   "version": "3.10.12"
  }
 },
 "nbformat": 4,
 "nbformat_minor": 5
}
