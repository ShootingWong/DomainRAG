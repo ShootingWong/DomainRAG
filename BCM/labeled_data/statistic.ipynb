{
 "cells": [
  {
   "cell_type": "code",
   "execution_count": 14,
   "id": "bb40e857-c4c2-4d46-b2ef-5c1df568f7c5",
   "metadata": {},
   "outputs": [],
   "source": [
    "import numpy as np\n",
    "import os\n",
    "import json\n",
    "from tqdm import tqdm"
   ]
  },
  {
   "cell_type": "code",
   "execution_count": 5,
   "id": "f62fd7e9-5b3b-41c2-8598-0a87e9ce9738",
   "metadata": {},
   "outputs": [
    {
     "data": {
      "text/plain": [
       "8"
      ]
     },
     "execution_count": 5,
     "metadata": {},
     "output_type": "execute_result"
    }
   ],
   "source": [
    "ans = [[\"汉语\",\"法语\",\"英语\"]]\n",
    "len(' '.join(ans[0]))"
   ]
  },
  {
   "cell_type": "code",
   "execution_count": null,
   "id": "d869871c-05f7-4f43-b318-50d1d015f50e",
   "metadata": {},
   "outputs": [],
   "source": []
  },
  {
   "cell_type": "code",
   "execution_count": 15,
   "id": "b62d9d87-f7a5-42fb-ac67-d7ae20e7a7a8",
   "metadata": {},
   "outputs": [],
   "source": [
    "def calculate(data):\n",
    "    q = data['question']\n",
    "    query_len = len(q)\n",
    "    \n",
    "    if 'answers' in data:\n",
    "        answers = data['answers']\n",
    "    else:\n",
    "        answers = data['answer']\n",
    "        \n",
    "    ans_len = []\n",
    "    if isinstance(answers, str):\n",
    "        ans_len.append(len(answers))\n",
    "    else:\n",
    "        for ans in answers:\n",
    "            if isinstance(ans, list):\n",
    "                ans = ' '.join(ans)\n",
    "            ans_len.append(len(ans))\n",
    "        \n",
    "    if 'counterfact_answers' in data:\n",
    "        counter_ans_len = []\n",
    "        counterfact_answers = data['counterfact_answers']\n",
    "        for ans in counterfact_answers:\n",
    "            if isinstance(ans, list):\n",
    "                ans = ' '.join(ans)\n",
    "            counter_ans_len.append(len(ans))\n",
    "            \n",
    "        return query_len, ans_len, counter_ans_len\n",
    "    else:\n",
    "        return query_len, ans_len, [0]\n",
    "    "
   ]
  },
  {
   "cell_type": "code",
   "execution_count": 16,
   "id": "b1afefc2-0f46-4de8-9028-ef97a344ce3e",
   "metadata": {},
   "outputs": [],
   "source": [
    "tasks = [\"conversation\", \"counterfactual\", \"basic\", \"time\", \"structure\", \"multidoc\", \"noisy\"]\n",
    "roots = [\"conversation_qa\", \"counterfact_qa\", \"extractive_qa\", \"time-sensitive_qa\", \"structured_qa\", \"multi-doc_qa\", \"noisy_qa\"]\n",
    "files = [\"revised_conversation_qa.jsonl\", \"revised_factual_qa_indomain_psg.jsonl\", \"basic_qa_ver2.jsonl\", \"time_sensitive_ver2.jsonl\", \"structured_qa+human_dataset_twppositive.jsonl\", \"multidoc_qa_final_merge_referred_docs.jsonl\", \"noisy_qa_ver2.jsonl\"]\n",
    "\n",
    "root_map = {}\n",
    "filename_map = {}\n",
    "for i in range(len(tasks)):\n",
    "    task = tasks[i]\n",
    "    root = roots[i]\n",
    "    filename = files[i]\n",
    "    \n",
    "def calculate_alldata():\n",
    "    for i in range(len(tasks)):\n",
    "        task = tasks[i]\n",
    "        root = roots[i]\n",
    "        filename = files[i]\n",
    "        datas = [json.loads(line) for line in open(os.path.join(root, filename)).readlines()]\n",
    "        all_query_len, all_ans_len, all_counter_ans_len = [], [], [] \n",
    "        \n",
    "        for data in tqdm(datas):\n",
    "            query_len, ans_len, counter_ans_len = calculate(data)\n",
    "            all_query_len.append(query_len)\n",
    "            all_ans_len += ans_len\n",
    "            all_counter_ans_len += counter_ans_len\n",
    "            \n",
    "        avg_query_len = np.mean(all_query_len)\n",
    "        avg_ans_len = np.mean(all_ans_len)\n",
    "        avg_counter_ans_len = np.mean(all_counter_ans_len)\n",
    "        \n",
    "        # if task == \"counterfactual\":\n",
    "        #     print(f'Task: {task} Sample cnt = {len(datas)} avg_query_len: {avg_query_len} avg_ans_len: {avg_ans_len} avg_counter_ans_len = {avg_counter_ans_len}')\n",
    "        # else:\n",
    "        #     print(f'Task: {task} Sample cnt = {len(datas)}  avg_query_len: {avg_query_len} avg_ans_len: {avg_ans_len}')\n",
    "        \n",
    "        if task == \"counterfactual\":\n",
    "            print(f'Task: {task} Sample cnt = {len(datas)} avg_query_len: {avg_query_len} avg_ans_len: {avg_ans_len} avg_counter_ans_len = {avg_counter_ans_len}')\n",
    "        else:\n",
    "            print(f'Task: {task} Sample cnt = {len(datas)}  avg_query_len: {avg_query_len} avg_ans_len: {avg_ans_len}')\n",
    "            \n",
    "            "
   ]
  },
  {
   "cell_type": "code",
   "execution_count": 17,
   "id": "e5a72ecb-aeef-4814-915b-986e3069b8c0",
   "metadata": {},
   "outputs": [
    {
     "name": "stderr",
     "output_type": "stream",
     "text": [
      "100%|██████████| 49/49 [00:00<00:00, 569309.96it/s]\n"
     ]
    },
    {
     "name": "stdout",
     "output_type": "stream",
     "text": [
      "Task: conversation Sample cnt = 49  avg_query_len: 16.653061224489797 avg_ans_len: 35.66\n"
     ]
    },
    {
     "name": "stderr",
     "output_type": "stream",
     "text": [
      "100%|██████████| 49/49 [00:00<00:00, 444850.42it/s]\n"
     ]
    },
    {
     "name": "stdout",
     "output_type": "stream",
     "text": [
      "Task: counterfactual Sample cnt = 49 avg_query_len: 27.285714285714285 avg_ans_len: 12.848101265822784 avg_counter_ans_len = 11.79746835443038\n"
     ]
    },
    {
     "name": "stderr",
     "output_type": "stream",
     "text": [
      "100%|██████████| 90/90 [00:00<00:00, 732985.17it/s]\n"
     ]
    },
    {
     "name": "stdout",
     "output_type": "stream",
     "text": [
      "Task: basic Sample cnt = 90  avg_query_len: 24.466666666666665 avg_ans_len: 8.984126984126984\n"
     ]
    },
    {
     "name": "stderr",
     "output_type": "stream",
     "text": [
      "100%|██████████| 67/67 [00:00<00:00, 729917.84it/s]\n"
     ]
    },
    {
     "name": "stdout",
     "output_type": "stream",
     "text": [
      "Task: time Sample cnt = 67  avg_query_len: 21.17910447761194 avg_ans_len: 4.6\n"
     ]
    },
    {
     "name": "stderr",
     "output_type": "stream",
     "text": [
      "100%|██████████| 100/100 [00:00<00:00, 709696.11it/s]\n"
     ]
    },
    {
     "name": "stdout",
     "output_type": "stream",
     "text": [
      "Task: structure Sample cnt = 100  avg_query_len: 35.11 avg_ans_len: 6.601694915254237\n"
     ]
    },
    {
     "name": "stderr",
     "output_type": "stream",
     "text": [
      "100%|██████████| 48/48 [00:00<00:00, 606405.40it/s]\n"
     ]
    },
    {
     "name": "stdout",
     "output_type": "stream",
     "text": [
      "Task: multidoc Sample cnt = 48  avg_query_len: 35.895833333333336 avg_ans_len: 86.69135802469135\n"
     ]
    },
    {
     "name": "stderr",
     "output_type": "stream",
     "text": [
      "100%|██████████| 90/90 [00:00<00:00, 602053.21it/s]"
     ]
    },
    {
     "name": "stdout",
     "output_type": "stream",
     "text": [
      "Task: noisy Sample cnt = 90  avg_query_len: 24.466666666666665 avg_ans_len: 8.984126984126984\n"
     ]
    },
    {
     "name": "stderr",
     "output_type": "stream",
     "text": [
      "\n"
     ]
    }
   ],
   "source": [
    "calculate_alldata()"
   ]
  },
  {
   "cell_type": "code",
   "execution_count": 11,
   "id": "a327cab2-d3f9-4535-98c2-24f8f881341b",
   "metadata": {},
   "outputs": [],
   "source": [
    "import json\n",
    "datas = [json.loads(line) for line in open('multi-doc_qa/multidoc_qa_final_merge_referred_docs.jsonl').readlines()]"
   ]
  },
  {
   "cell_type": "code",
   "execution_count": null,
   "id": "8ad8a75d-e7ef-4d3d-a4f0-4601b5e1af29",
   "metadata": {},
   "outputs": [],
   "source": []
  }
 ],
 "metadata": {
  "kernelspec": {
   "display_name": "Python 3 (ipykernel)",
   "language": "python",
   "name": "python3"
  },
  "language_info": {
   "codemirror_mode": {
    "name": "ipython",
    "version": 3
   },
   "file_extension": ".py",
   "mimetype": "text/x-python",
   "name": "python",
   "nbconvert_exporter": "python",
   "pygments_lexer": "ipython3",
   "version": "3.10.12"
  }
 },
 "nbformat": 4,
 "nbformat_minor": 5
}
