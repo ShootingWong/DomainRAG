{
 "cells": [
  {
   "cell_type": "code",
   "execution_count": 2,
   "id": "989fd229-759f-44f6-a99e-4b27fc3e238d",
   "metadata": {},
   "outputs": [],
   "source": [
    "import json"
   ]
  },
  {
   "cell_type": "code",
   "execution_count": 3,
   "id": "7b10ff63-773c-4389-adbf-c2fff8d5413d",
   "metadata": {},
   "outputs": [],
   "source": [
    "config = {\n",
    "    \"data_root\": \"../labeled_data/\",\n",
    "    \"save_root\": \"prediction_results\",\n",
    "    \"save_name\": {\n",
    "        \"CLOSE\": \"CLOSE_{}_result.jsonl\",\n",
    "        \"GOLDEN\":\"GOLDEN_{}_result.jsonl\",\n",
    "        \"BM25\": \"BM25_{}_TOP{}-result.jsonl\",\n",
    "        \"DENSE\": \"DENSE_{}_TOP{}_result.jsonl\",\n",
    "    },\n",
    "    \"psg_pmt\": \"[信息 {id}]: [题目: {title}. 内容: {contents}]\\n\",\n",
    "    \"tasks\": {\n",
    "        \"basic\": {\n",
    "            \"data_root\": \"extractive_qa\",\n",
    "            \"data_path\": \"basic_qa{}.jsonl\",\n",
    "            \"save_root\": \"extractive_qa\",\n",
    "            \"llm_pmt\": \"使用给定的信息，请对用户的问题给出准确的回答。确保:\\n1. 尽可能简洁的回答问题，用实体形式而不是句子形式回答问题。\\n2. 如果用户的请求涉及推理，你应该根据给定的信息一步一步地思考，推理出最终的答案。\\n3. 只给我最后的答案，不输出推理过程。\\n4.只给我答案，不要输出任何其他的话。\\n5.在一行上生成答案，换行和句号被认为是终止符。\\n **给定信息:** \\n{docs}\\n **问题:**\\n{query}\\n**回答:**\\n\",\n",
    "            \"close_pmt\": \"请对用户的问题给出准确的回答。确保:\\n1. 尽可能简洁的回答问题，用实体形式而不是句子形式回答问题。\\n2. 如果用户的请求涉及推理，你应该根据给定的信息一步一步地思考，推理出最终的答案。\\n3. 只给我最后的答案，不输出推理过程。\\n4.只给我答案，不要输出任何其他的话。\\n5.在一行上生成答案，换行和句号被认为是终止符。\\n**问题:**\\n{query}\\n**回答:**\\n\",\n",
    "        },\n",
    "        \"time\": {\n",
    "            \"data_root\": \"time-sensitive_qa\",\n",
    "            \"data_path\": \"time_sensitive{}.jsonl\",\n",
    "            \"save_root\": \"time-sensitive_qa\",\n",
    "            \"llm_pmt\": \"使用给定的信息，请对用户的问题给出准确的回答。确保:\\n1. 尽可能简洁的回答问题，用实体形式而不是句子形式回答问题。\\n2. 如果用户的请求涉及推理，你应该根据给定的信息一步一步地思考，推理出最终的答案。\\n3. 只给我最后的答案，不输出推理过程。\\n4.只给我答案，不要输出任何其他的话。\\n5.在一行上生成答案，换行和句号被认为是终止符。\\n **给定信息:** \\n{docs}\\n **问题:**\\n{query}\\n**回答:**\\n\",\n",
    "            \"close_pmt\": \"请对用户的问题给出准确的回答。确保:\\n1. 尽可能简洁的回答问题，用实体形式而不是句子形式回答问题。\\n2. 如果用户的请求涉及推理，你应该根据给定的信息一步一步地思考，推理出最终的答案。\\n3. 只给我最后的答案，不输出推理过程。\\n4.只给我答案，不要输出任何其他的话。\\n5.在一行上生成答案，换行和句号被认为是终止符。\\n**问题:**\\n{query}\\n**回答:**\\n\",\n",
    "        },\n",
    "        \"conversation\": {\n",
    "            \"data_root\": \"conversation_qa\",\n",
    "            \"data_path\": \"conversation_qa{}.jsonl\",\n",
    "            \"save_root\": \"conversation_qa\",\n",
    "            \"llm_pmt\": \"根据用户的对话历史和提供的外部知识，请对用户当前的问题给出准确的回答。确保:\\n1. 尽可能简洁的回答问题。\\n2. 如果用户的请求涉及推理，你应该根据给定的信息一步一步地思考，推理出最终的答案。\\n3. 只给我最后的答案，不输出推理过程。\\n4.只给我答案，不要输出任何其他的话。\\n5.在一行上生成答案，换行和句号被认为是终止符。\\n**对话历史:**: \\n{history}\\n**外部知识:** \\n{docs}\\n **问题:**\\n{query}\\n**回答:**\\n\",\n",
    "            \"conv_pmt\": \"**问题:**\\n{query}\\n**回答:**\\n{answer}\\n\",\n",
    "            \"close_pmt\": \"根据用户的对话历史，请对用户当前的问题给出准确的回答。确保:\\n1. 尽可能简洁的回答问题。\\n2. 如果用户的请求涉及推理，你应该根据给定的信息一步一步地思考，推理出最终的答案。\\n3. 只给我最后的答案，不输出推理过程。\\n4.只给我答案，不要输出任何其他的话。\\n5.在一行上生成答案，换行和句号被认为是终止符。\\n**对话历史:**: \\n{history}\\n **问题:**\\n{query}\\n**回答:**\\n\",\n",
    "        },\n",
    "        \"noisy\": {\n",
    "            \"data_root\": \"noisy_qa\",\n",
    "            \"data_path\": \"noisy_qa{}.jsonl\",\n",
    "            \"save_root\": \"noisy_qa\",\n",
    "            \"save_name\": \"GOLDEN_{}_noisyCnt-{}_goldIdx-{}_result.jsonl\",\n",
    "            \"llm_pmt\": \"使用给定的信息，请对用户的问题给出准确的回答。确保:\\n1. 尽可能简洁的回答问题，用实体形式而不是句子形式回答问题。\\n2. 如果用户的请求涉及推理，你应该根据给定的信息一步一步地思考，推理出最终的答案。\\n3. 只给我最后的答案，不输出推理过程。\\n4.只给我答案，不要输出任何其他的话。\\n5.在一行上生成答案，换行和句号被认为是终止符。\\n **给定信息:** \\n{docs}\\n **问题:**\\n{query}\\n**回答:**\\n\",\n",
    "            \"close_pmt\": \"请对用户的问题给出准确的回答。确保:\\n1. 尽可能简洁的回答问题，用实体形式而不是句子形式回答问题。\\n2. 如果用户的请求涉及推理，你应该根据给定的信息一步一步地思考，推理出最终的答案。\\n3. 只给我最后的答案，不输出推理过程。\\n4.只给我答案，不要输出任何其他的话。\\n5.在一行上生成答案，换行和句号被认为是终止符。\\n**问题:**\\n{query}\\n**回答:**\\n\",\n",
    "        },\n",
    "        \"multidoc\": {\n",
    "            \"data_root\": \"multi-doc_qa\",\n",
    "            \"data_path\": \"multidoc_qa{}.jsonl\",\n",
    "            \"save_root\": \"multi-doc_qa\", #\"multi-doc_qa\",\n",
    "            \"llm_pmt\": \"使用给定的信息，请对用户的问题给出准确且完整的回答。\\n **给定信息:** \\n{docs}\\n **问题:**\\n{query}\\n**回答:**\\n\",\n",
    "            \"close_pmt\": \"请对用户的问题给出准确且完整的回答。**问题:**\\n{query}\\n**回答:**\\n\",\n",
    "        },\n",
    "        \"structure\": {\n",
    "            \"data_root\": \"structured_qa\",\n",
    "            \"data_path\": \"structured_qa_twopositive{}.jsonl\",\n",
    "            \"save_root\": \"structured_qa\",\n",
    "            \"llm_pmt\": \"使用给定的信息，请对用户的问题给出准确的回答。确保:\\n1. 尽可能简洁的回答问题，用实体形式而不是句子形式回答问题。\\n2. 如果用户的请求涉及推理，你应该根据给定的信息一步一步地思考，推理出最终的答案。\\n3. 只给我最后的答案，不输出推理过程。\\n4.只给我答案，不要输出任何其他的话。\\n5.在一行上生成答案，换行和句号被认为是终止符。\\n **给定信息:** \\n{docs}\\n **问题:**\\n{query}\\n**回答:**\\n\",\n",
    "            \"close_pmt\": \"请对用户的问题给出准确的回答。确保:\\n1. 尽可能简洁的回答问题，用实体形式而不是句子形式回答问题。\\n2. 如果用户的请求涉及推理，你应该根据给定的信息一步一步地思考，推理出最终的答案。\\n3. 只给我最后的答案，不输出推理过程。\\n4.只给我答案，不要输出任何其他的话。\\n5.在一行上生成答案，换行和句号被认为是终止符。\\n**问题:**\\n{query}\\n**回答:**\\n\",\n",
    "        },\n",
    "        \"faithful\": {\n",
    "            \"data_root\": \"faithful_qa\",\n",
    "            \"data_path\": \"faithful_qa{}.jsonl\",\n",
    "            \"save_root\": \"faithful_qa\",\n",
    "            \"llm_pmt\": \"使用给定的信息，请对用户的问题给出准确的回答。确保:\\n1. 尽可能简洁的回答问题，用实体形式而不是句子形式回答问题。\\n2. 如果用户的请求涉及推理，你应该根据给定的信息一步一步地思考，推理出最终的答案。\\n3. 只给我最后的答案，不输出推理过程。\\n4.只给我答案，不要输出任何其他的话。\\n5.在一行上生成答案，换行和句号被认为是终止符。\\n **给定信息:** \\n{docs}\\n **问题:**\\n{query}\\n**回答:**\\n\",\n",
    "            \"close_pmt\": \"请对用户的问题给出准确的回答。确保:\\n1. 尽可能简洁的回答问题，用实体形式而不是句子形式回答问题。\\n2. 如果用户的请求涉及推理，你应该根据给定的信息一步一步地思考，推理出最终的答案。\\n3. 只给我最后的答案，不输出推理过程。\\n4.只给我答案，不要输出任何其他的话。\\n5.在一行上生成答案，换行和句号被认为是终止符。\\n**问题:**\\n{query}\\n**回答:**\\n\",\n",
    "        },\n",
    "    }\n",
    "}"
   ]
  },
  {
   "cell_type": "code",
   "execution_count": 4,
   "id": "6d94c312-cad0-458a-bdb9-3b6af06d53b8",
   "metadata": {},
   "outputs": [],
   "source": [
    "with open('config.json', 'w') as wf:\n",
    "    wf.write(json.dumps(config))"
   ]
  },
  {
   "cell_type": "code",
   "execution_count": 9,
   "id": "e00ea0cd-6595-4109-b1ec-6d6407864721",
   "metadata": {},
   "outputs": [],
   "source": [
    "nc = json.load(open('config.json'))"
   ]
  },
  {
   "cell_type": "code",
   "execution_count": 13,
   "id": "58f3ddde-fcad-4a89-a755-e2e5d8944976",
   "metadata": {},
   "outputs": [],
   "source": [
    "a = \"we\".format('3')"
   ]
  },
  {
   "cell_type": "code",
   "execution_count": 14,
   "id": "3b924a42-bfd6-4001-b87a-d0bb5a791961",
   "metadata": {},
   "outputs": [
    {
     "data": {
      "text/plain": [
       "'we'"
      ]
     },
     "execution_count": 14,
     "metadata": {},
     "output_type": "execute_result"
    }
   ],
   "source": [
    "a"
   ]
  },
  {
   "cell_type": "code",
   "execution_count": 15,
   "id": "33daaea9-ca12-41fd-a5bd-d6c2826de34b",
   "metadata": {},
   "outputs": [
    {
     "data": {
      "text/plain": [
       "'a/b/c'"
      ]
     },
     "execution_count": 15,
     "metadata": {},
     "output_type": "execute_result"
    }
   ],
   "source": [
    "import os\n",
    "\n",
    "os.path.join('a', 'b', 'c')"
   ]
  },
  {
   "cell_type": "code",
   "execution_count": null,
   "id": "da9a32fa-425c-4a09-a7d1-f29054392217",
   "metadata": {},
   "outputs": [],
   "source": []
  }
 ],
 "metadata": {
  "kernelspec": {
   "display_name": "Python 3 (ipykernel)",
   "language": "python",
   "name": "python3"
  },
  "language_info": {
   "codemirror_mode": {
    "name": "ipython",
    "version": 3
   },
   "file_extension": ".py",
   "mimetype": "text/x-python",
   "name": "python",
   "nbconvert_exporter": "python",
   "pygments_lexer": "ipython3",
   "version": "3.10.12"
  }
 },
 "nbformat": 4,
 "nbformat_minor": 5
}
